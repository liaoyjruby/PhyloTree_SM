{
 "cells": [
  {
   "cell_type": "markdown",
   "metadata": {},
   "source": [
    "test yaml"
   ]
  },
  {
   "cell_type": "code",
   "execution_count": 29,
   "metadata": {},
   "outputs": [
    {
     "data": {
      "text/plain": [
       "{'units': 'config/units.tsv',\n",
       " 'samples': 'config/samples.tsv',\n",
       " 'conditions': ['Cohort_Specific', 'Platinum_Sensitivity', 'Batch'],\n",
       " 'references': {'dbsnp_ref': 'Homo_sapiens_assembly38.dbsnp138.vcf',\n",
       "  'dbsnp_ref_idx': 'Homo_sapiens_assembly38.dbsnp138.vcf.idx',\n",
       "  'dict_ref': 'Homo_sapiens_assembly38.dict',\n",
       "  'fasta_ref': 'Homo_sapiens_assembly38.fasta',\n",
       "  'fasta_ref_idx': 'Homo_sapiens_assembly38.fasta.fai'}}"
      ]
     },
     "execution_count": 29,
     "metadata": {},
     "output_type": "execute_result"
    }
   ],
   "source": [
    "from snakemake.io import expand\n",
    "import yaml\n",
    "\n",
    "with open(\"config/config.yaml\", \"r\") as stream:\n",
    "    config = yaml.safe_load(stream)\n",
    "\n",
    "config\n",
    "\n",
    "# os.path.exists(\"config/config.yaml\")"
   ]
  },
  {
   "cell_type": "code",
   "execution_count": 52,
   "metadata": {},
   "outputs": [
    {
     "data": {
      "text/plain": [
       "['X10_1', 'X10_2', 'X11', 'X1a', 'X1b', 'X3a', 'X3b']"
      ]
     },
     "execution_count": 52,
     "metadata": {},
     "output_type": "execute_result"
    }
   ],
   "source": [
    "import pandas as pd\n",
    "\n",
    "units = pd.read_table(config[\"units\"])['Sample_ID'].tolist()\n",
    "units"
   ]
  },
  {
   "cell_type": "code",
   "execution_count": 46,
   "metadata": {},
   "outputs": [
    {
     "data": {
      "text/plain": [
       "dict_values(['Homo_sapiens_assembly38.dbsnp138.vcf', 'Homo_sapiens_assembly38.dbsnp138.vcf.idx', 'Homo_sapiens_assembly38.dict', 'Homo_sapiens_assembly38.fasta', 'Homo_sapiens_assembly38.fasta.fai'])"
      ]
     },
     "execution_count": 46,
     "metadata": {},
     "output_type": "execute_result"
    }
   ],
   "source": [
    "config[\"references\"].values()"
   ]
  },
  {
   "cell_type": "code",
   "execution_count": 47,
   "metadata": {},
   "outputs": [],
   "source": [
    "import pandas as pd\n",
    "\n",
    "units_df = pd.read_table(\"config/units.tsv\")"
   ]
  },
  {
   "cell_type": "code",
   "execution_count": 48,
   "metadata": {},
   "outputs": [],
   "source": [
    "def UUID2sample(UUIDpath):\n",
    "    units_df = pd.read_table(\"config/units.tsv\")\n",
    "    sample_name = units_df[units_df['Mapped'] == UUIDpath].iloc[0]['Sample_ID']\n",
    "    return(sample_name)"
   ]
  },
  {
   "cell_type": "code",
   "execution_count": 49,
   "metadata": {},
   "outputs": [
    {
     "data": {
      "text/plain": [
       "'/Users/liaoyj/Library/CloudStorage/Box-Box/OV_RNASeq_BAM/RNAseq_Batch1/UUID_3.sortedByCoord.md.bam'"
      ]
     },
     "execution_count": 49,
     "metadata": {},
     "output_type": "execute_result"
    }
   ],
   "source": [
    "def sample2UUID(wildcards):\n",
    "    units_df = pd.read_table(config[\"units\"])\n",
    "    UUID_path = units_df[units_df['Sample_ID'] == wildcards].iloc[0]['Mapped_Path']\n",
    "    return(UUID_path)\n",
    "\n",
    "sample2UUID(\"X1b\")\n",
    "\n",
    "# def getID(wildcards):\n",
    "#     units_df = pd.read_table(\"config/units.tsv\")\n",
    "#     uID = units_df[units_df['Sample_ID'] == wildcards].iloc[0]['ID']\n",
    "#     return(uID)\n",
    "\n",
    "\n",
    "# wildcards = \"X1b\"\n",
    "# getID(\"X1b\")"
   ]
  },
  {
   "cell_type": "code",
   "execution_count": 50,
   "metadata": {},
   "outputs": [],
   "source": [
    "def ref_types(wildcards):\n",
    "    if (wildcards == \"fasta\"):\n",
    "        types = [wildcards, \"fasta.fai\"]\n",
    "    elif (wildcards == \"vcf\"):\n",
    "        types = [wildcards, \"vcf.idx\"]\n",
    "    else:\n",
    "        types = wildcards\n",
    "\n",
    "    return(types)"
   ]
  },
  {
   "cell_type": "code",
   "execution_count": 51,
   "metadata": {},
   "outputs": [
    {
     "data": {
      "text/plain": [
       "['vcf', 'vcf.idx']"
      ]
     },
     "execution_count": 51,
     "metadata": {},
     "output_type": "execute_result"
    }
   ],
   "source": [
    "ref_types(\"vcf\")"
   ]
  }
 ],
 "metadata": {
  "kernelspec": {
   "display_name": "Python 3.10.6 ('PhyloTreeSM')",
   "language": "python",
   "name": "python3"
  },
  "language_info": {
   "codemirror_mode": {
    "name": "ipython",
    "version": 3
   },
   "file_extension": ".py",
   "mimetype": "text/x-python",
   "name": "python",
   "nbconvert_exporter": "python",
   "pygments_lexer": "ipython3",
   "version": "3.10.6"
  },
  "orig_nbformat": 4,
  "vscode": {
   "interpreter": {
    "hash": "8d5f47a4a852fcef0e534af175ca3f0f59d64a2a077635dfd1dd860d286dc102"
   }
  }
 },
 "nbformat": 4,
 "nbformat_minor": 2
}
