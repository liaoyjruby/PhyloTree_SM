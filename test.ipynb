{
 "cells": [
  {
   "cell_type": "code",
   "execution_count": 36,
   "metadata": {},
   "outputs": [],
   "source": [
    "import pandas as pd\n",
    "\n",
    "units_df = pd.read_table(\"config/units.tsv\")\n",
    "\n",
    "units_df = pd.read_csv(\"config/units.tsv\", sep='\\t', index_col = 'Sample_ID')\n"
   ]
  },
  {
   "cell_type": "code",
   "execution_count": 37,
   "metadata": {},
   "outputs": [],
   "source": [
    "def UUID2sample(UUIDpath):\n",
    "    units_df = pd.read_table(\"config/units.tsv\")\n",
    "    sample_name = units_df[units_df['Mapped'] == UUIDpath].iloc[0]['Sample_ID']\n",
    "    return(sample_name)"
   ]
  },
  {
   "cell_type": "code",
   "execution_count": 41,
   "metadata": {},
   "outputs": [
    {
     "data": {
      "text/plain": [
       "'/Users/liaoyj/Library/CloudStorage/Box-Box/OV_RNASeq_BAM/RNAseq_Batch1/UUID_3.sortedByCoord.md.bam'"
      ]
     },
     "execution_count": 41,
     "metadata": {},
     "output_type": "execute_result"
    }
   ],
   "source": [
    "def sample2UUID(wildcards):\n",
    "    print(wildcards)\n",
    "    units_df = pd.read_table(\"config/units.tsv\")\n",
    "    UUID_path = units_df[units_df['Sample_ID'] == wildcards].iloc[0]['Mapped']\n",
    "    return(UUID_path)\n",
    "\n",
    "sample2UUID(\"X1b\")"
   ]
  }
 ],
 "metadata": {
  "kernelspec": {
   "display_name": "Python 3.10.6 ('PhyloTreeSM')",
   "language": "python",
   "name": "python3"
  },
  "language_info": {
   "codemirror_mode": {
    "name": "ipython",
    "version": 3
   },
   "file_extension": ".py",
   "mimetype": "text/x-python",
   "name": "python",
   "nbconvert_exporter": "python",
   "pygments_lexer": "ipython3",
   "version": "3.10.6"
  },
  "orig_nbformat": 4,
  "vscode": {
   "interpreter": {
    "hash": "8d5f47a4a852fcef0e534af175ca3f0f59d64a2a077635dfd1dd860d286dc102"
   }
  }
 },
 "nbformat": 4,
 "nbformat_minor": 2
}
