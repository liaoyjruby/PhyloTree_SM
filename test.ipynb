{
 "cells": [
  {
   "cell_type": "code",
   "execution_count": 1,
   "metadata": {},
   "outputs": [],
   "source": [
    "import pandas as pd\n",
    "\n",
    "units_df = pd.read_table(\"config/units.tsv\")"
   ]
  },
  {
   "cell_type": "code",
   "execution_count": 2,
   "metadata": {},
   "outputs": [],
   "source": [
    "def UUID2sample(UUIDpath):\n",
    "    units_df = pd.read_table(\"config/units.tsv\")\n",
    "    sample_name = units_df[units_df['Mapped'] == UUIDpath].iloc[0]['Sample_ID']\n",
    "    return(sample_name)"
   ]
  },
  {
   "cell_type": "code",
   "execution_count": 5,
   "metadata": {},
   "outputs": [
    {
     "name": "stdout",
     "output_type": "stream",
     "text": [
      "X1b\n"
     ]
    },
    {
     "data": {
      "text/plain": [
       "3"
      ]
     },
     "execution_count": 5,
     "metadata": {},
     "output_type": "execute_result"
    }
   ],
   "source": [
    "def sample2UUID(wildcards):\n",
    "    print(wildcards)\n",
    "    units_df = pd.read_table(\"config/units.tsv\")\n",
    "    UUID_path = units_df[units_df['Sample_ID'] == wildcards].iloc[0]['Mapped']\n",
    "    return(UUID_path)\n",
    "\n",
    "sample2UUID(\"X1b\")\n",
    "\n",
    "def getID(wildcards):\n",
    "    units_df = pd.read_table(\"config/units.tsv\")\n",
    "    uID = units_df[units_df['Sample_ID'] == wildcards].iloc[0]['ID']\n",
    "    return(uID)\n",
    "\n",
    "\n",
    "wildcards = \"X1b\"\n",
    "getID(\"X1b\")"
   ]
  }
 ],
 "metadata": {
  "kernelspec": {
   "display_name": "Python 3.10.6 ('PhyloTreeSM')",
   "language": "python",
   "name": "python3"
  },
  "language_info": {
   "codemirror_mode": {
    "name": "ipython",
    "version": 3
   },
   "file_extension": ".py",
   "mimetype": "text/x-python",
   "name": "python",
   "nbconvert_exporter": "python",
   "pygments_lexer": "ipython3",
   "version": "3.10.6"
  },
  "orig_nbformat": 4,
  "vscode": {
   "interpreter": {
    "hash": "8d5f47a4a852fcef0e534af175ca3f0f59d64a2a077635dfd1dd860d286dc102"
   }
  }
 },
 "nbformat": 4,
 "nbformat_minor": 2
}
