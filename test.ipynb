{
 "cells": [
  {
   "cell_type": "markdown",
   "metadata": {},
   "source": [
    "test yaml"
   ]
  },
  {
   "cell_type": "code",
   "execution_count": 59,
   "metadata": {},
   "outputs": [
    {
     "data": {
      "text/plain": [
       "{'dir': '/Volumes/RubsSSD 1/PhyloTree_SM',\n",
       " 'units': 'config/units.tsv',\n",
       " 'samples': ['X1a', 'X1b', 'X3a', 'X3b', 'X11', 'X10_1', 'X10_2'],\n",
       " 'references': {'dbsnp_ref': 'Homo_sapiens_assembly38.dbsnp138.vcf',\n",
       "  'dbsnp_ref_idx': 'Homo_sapiens_assembly38.dbsnp138.vcf.idx',\n",
       "  'dict_ref': 'Homo_sapiens_assembly38.dict',\n",
       "  'fasta_ref': 'Homo_sapiens_assembly38.fasta',\n",
       "  'fasta_ref_idx': 'Homo_sapiens_assembly38.fasta.fai'}}"
      ]
     },
     "execution_count": 59,
     "metadata": {},
     "output_type": "execute_result"
    }
   ],
   "source": [
    "from snakemake.io import expand\n",
    "import yaml\n",
    "\n",
    "with open(\"config/config.yaml\", \"r\") as stream:\n",
    "    config = yaml.safe_load(stream)\n",
    "\n",
    "config\n",
    "\n",
    "# os.path.exists(\"config/config.yaml\")"
   ]
  },
  {
   "cell_type": "code",
   "execution_count": 60,
   "metadata": {},
   "outputs": [
    {
     "data": {
      "text/plain": [
       "dict_values(['Homo_sapiens_assembly38.dbsnp138.vcf', 'Homo_sapiens_assembly38.dbsnp138.vcf.idx', 'Homo_sapiens_assembly38.dict', 'Homo_sapiens_assembly38.fasta', 'Homo_sapiens_assembly38.fasta.fai'])"
      ]
     },
     "execution_count": 60,
     "metadata": {},
     "output_type": "execute_result"
    }
   ],
   "source": [
    "config[\"references\"].values()"
   ]
  },
  {
   "cell_type": "code",
   "execution_count": 61,
   "metadata": {},
   "outputs": [],
   "source": [
    "import pandas as pd\n",
    "\n",
    "units_df = pd.read_table(\"config/units.tsv\")"
   ]
  },
  {
   "cell_type": "code",
   "execution_count": 62,
   "metadata": {},
   "outputs": [],
   "source": [
    "def UUID2sample(UUIDpath):\n",
    "    units_df = pd.read_table(\"config/units.tsv\")\n",
    "    sample_name = units_df[units_df['Mapped'] == UUIDpath].iloc[0]['Sample_ID']\n",
    "    return(sample_name)"
   ]
  },
  {
   "cell_type": "code",
   "execution_count": 63,
   "metadata": {},
   "outputs": [
    {
     "name": "stdout",
     "output_type": "stream",
     "text": [
      "X1b\n"
     ]
    },
    {
     "data": {
      "text/plain": [
       "3"
      ]
     },
     "execution_count": 63,
     "metadata": {},
     "output_type": "execute_result"
    }
   ],
   "source": [
    "def sample2UUID(wildcards):\n",
    "    print(wildcards)\n",
    "    units_df = pd.read_table(\"config/units.tsv\")\n",
    "    UUID_path = units_df[units_df['Sample_ID'] == wildcards].iloc[0]['Mapped']\n",
    "    return(UUID_path)\n",
    "\n",
    "sample2UUID(\"X1b\")\n",
    "\n",
    "def getID(wildcards):\n",
    "    units_df = pd.read_table(\"config/units.tsv\")\n",
    "    uID = units_df[units_df['Sample_ID'] == wildcards].iloc[0]['ID']\n",
    "    return(uID)\n",
    "\n",
    "\n",
    "wildcards = \"X1b\"\n",
    "getID(\"X1b\")"
   ]
  },
  {
   "cell_type": "code",
   "execution_count": 71,
   "metadata": {},
   "outputs": [],
   "source": [
    "def ref_types(wildcards):\n",
    "    if (wildcards == \"fasta\"):\n",
    "        types = [wildcards, \"fasta.fai\"]\n",
    "    elif (wildcards == \"vcf\"):\n",
    "        types = [wildcards, \"vcf.idx\"]\n",
    "    else:\n",
    "        types = wildcards\n",
    "\n",
    "    return(types)"
   ]
  },
  {
   "cell_type": "code",
   "execution_count": 72,
   "metadata": {},
   "outputs": [
    {
     "data": {
      "text/plain": [
       "['vcf', 'vcf.idx']"
      ]
     },
     "execution_count": 72,
     "metadata": {},
     "output_type": "execute_result"
    }
   ],
   "source": [
    "ref_types(\"vcf\")"
   ]
  }
 ],
 "metadata": {
  "kernelspec": {
   "display_name": "Python 3.10.6 ('PhyloTree_SM')",
   "language": "python",
   "name": "python3"
  },
  "language_info": {
   "codemirror_mode": {
    "name": "ipython",
    "version": 3
   },
   "file_extension": ".py",
   "mimetype": "text/x-python",
   "name": "python",
   "nbconvert_exporter": "python",
   "pygments_lexer": "ipython3",
   "version": "3.10.6"
  },
  "orig_nbformat": 4,
  "vscode": {
   "interpreter": {
    "hash": "3341c041ab8d91e779ffbf690bddc0d0926dbe4088ac906262a33fb81d48fad9"
   }
  }
 },
 "nbformat": 4,
 "nbformat_minor": 2
}
